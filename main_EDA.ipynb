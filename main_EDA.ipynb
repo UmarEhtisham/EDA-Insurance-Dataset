{
 "cells": [
  {
   "cell_type": "markdown",
   "metadata": {
    "id": "l_QGPTNfjCjI"
   },
   "source": [
    "# Perform EDA on below insurance dataset\n",
    "\n",
    "Link: https://www.kaggle.com/datasets/thedevastator/insurance-claim-analysis-demographic-and-health\n",
    "\n",
    "Perform All steps of EDA and document conclusions and then perform feature engineering."
   ]
  },
  {
   "cell_type": "code",
   "execution_count": 4,
   "metadata": {
    "id": "Vjy-pnhkjEuL"
   },
   "outputs": [],
   "source": [
    "import numpy as np \n",
    "import pandas as pd\n",
    "import re\n",
    "import seaborn as sns\n",
    "import matplotlib.pyplot as plt\n",
    "import klib\n",
    "import warnings\n",
    "\n",
    "warnings.filterwarnings(\"ignore\")"
   ]
  },
  {
   "cell_type": "code",
   "execution_count": null,
   "metadata": {},
   "outputs": [],
   "source": [
    "df = pd.read_csv(\"insurance_data.csv\", index_col=0)"
   ]
  },
  {
   "cell_type": "code",
   "execution_count": null,
   "metadata": {},
   "outputs": [],
   "source": [
    "df.info()"
   ]
  },
  {
   "cell_type": "code",
   "execution_count": null,
   "metadata": {},
   "outputs": [],
   "source": [
    "nulls_df = (df.isnull().sum()).to_frame(\"total_nulls\")\n",
    "nulls_df[\"nulls_ratio(%)\"]= ((nulls_df[\"total_nulls\"]/df.shape[0])*100).round(2)"
   ]
  },
  {
   "cell_type": "code",
   "execution_count": null,
   "metadata": {},
   "outputs": [],
   "source": [
    "nulls_df"
   ]
  },
  {
   "cell_type": "code",
   "execution_count": null,
   "metadata": {},
   "outputs": [],
   "source": [
    "df['region'].fillna(method='ffill', inplace=True)\n",
    "df.head(20)"
   ]
  },
  {
   "cell_type": "code",
   "execution_count": null,
   "metadata": {},
   "outputs": [],
   "source": [
    "temp_df = df.groupby('region')['age'].mean().round(0)\n",
    "ra_dict = temp_df.to_dict()\n",
    "ra_dict"
   ]
  },
  {
   "cell_type": "code",
   "execution_count": null,
   "metadata": {},
   "outputs": [],
   "source": [
    "df['age'] = df['age'].fillna(df['region'].map(ra_dict))\n",
    "df['age'] = df.age.astype('int64')"
   ]
  },
  {
   "cell_type": "code",
   "execution_count": null,
   "metadata": {},
   "outputs": [],
   "source": [
    "df.info()"
   ]
  },
  {
   "cell_type": "markdown",
   "metadata": {},
   "source": [
    "## Column's Data Types"
   ]
  },
  {
   "cell_type": "markdown",
   "metadata": {},
   "source": [
    "### **Numerical**: PatientID, age, bmi, bloodpressure, claim\n",
    "### **Categorical**: gender, diabetic, smoker, children, region\n",
    "### **Mixed**: None"
   ]
  },
  {
   "cell_type": "markdown",
   "metadata": {},
   "source": [
    "## Univariate Analysis - Nemerical Columns"
   ]
  },
  {
   "cell_type": "code",
   "execution_count": null,
   "metadata": {},
   "outputs": [],
   "source": [
    "df[[\"PatientID\",\"age\", \"bmi\", \"bloodpressure\", \"claim\"]].describe().round(2)"
   ]
  },
  {
   "cell_type": "markdown",
   "metadata": {},
   "source": [
    "### 1 - **age column**"
   ]
  },
  {
   "cell_type": "code",
   "execution_count": null,
   "metadata": {},
   "outputs": [],
   "source": [
    "fig, axs = plt.subplots(1,3, figsize = (15,5))\n",
    "sns.histplot(data = df, x=\"age\", element='bars', color = \"#03045e\", ax = axs[0])\n",
    "sns.kdeplot(data = df, x=\"age\", fill=True, color= \"#0077b6\", ax = axs[1])\n",
    "sns.rugplot(data = df, x=\"age\", color='orange', ax = axs[1])\n",
    "sns.boxplot(data = df, x =\"age\", color = \"#00b4d8\", ax = axs[2])\n",
    "plt.tight_layout()\n",
    "plt.show()"
   ]
  },
  {
   "cell_type": "markdown",
   "metadata": {},
   "source": [
    "### 2 - **bmi column**"
   ]
  },
  {
   "cell_type": "code",
   "execution_count": null,
   "metadata": {},
   "outputs": [],
   "source": [
    "fig, axs = plt.subplots(1,3, figsize = (15,5))\n",
    "sns.histplot(data = df, x=\"bmi\", element='bars', color = \"#03045e\", ax = axs[0])\n",
    "sns.kdeplot(data = df, x=\"bmi\", fill=True,color= \"#0077b6\", ax = axs[1])\n",
    "sns.rugplot(data = df, x=\"bmi\", color='orange', ax = axs[1])\n",
    "sns.boxplot(data = df, x =\"bmi\", color = \"#00b4d8\", ax = axs[2])\n",
    "plt.tight_layout()\n",
    "plt.show()"
   ]
  },
  {
   "cell_type": "markdown",
   "metadata": {},
   "source": [
    "### 3 - **bloodpressure Column**"
   ]
  },
  {
   "cell_type": "code",
   "execution_count": null,
   "metadata": {},
   "outputs": [],
   "source": [
    "fig, axs = plt.subplots(1,3, figsize = (15,5))\n",
    "sns.histplot(data = df, x=\"bloodpressure\", element='bars', color = \"#03045e\", ax = axs[0])\n",
    "sns.kdeplot(data = df, x=\"bloodpressure\", fill=True,color= \"#0077b6\", ax = axs[1])\n",
    "sns.rugplot(data = df, x=\"bloodpressure\", color='orange', ax = axs[1])\n",
    "sns.boxplot(data = df, x =\"bloodpressure\", color = \"#00b4d8\", ax = axs[2])\n",
    "plt.tight_layout()\n",
    "plt.show()"
   ]
  },
  {
   "cell_type": "markdown",
   "metadata": {},
   "source": [
    "### 4 - **claim Column**"
   ]
  },
  {
   "cell_type": "code",
   "execution_count": null,
   "metadata": {},
   "outputs": [],
   "source": [
    "fig, axs = plt.subplots(1,3, figsize = (15,5))\n",
    "sns.histplot(data = df, x=\"claim\", element='bars', color = \"#03045e\", ax = axs[0])\n",
    "sns.kdeplot(data = df, x=\"claim\", fill=True,color= \"#0077b6\", ax = axs[1])\n",
    "sns.rugplot(data = df, x=\"claim\", color='orange', ax = axs[1])\n",
    "sns.boxplot(data = df, x =\"claim\", color = \"#00b4d8\", ax = axs[2])\n",
    "plt.tight_layout()\n",
    "plt.show()"
   ]
  },
  {
   "cell_type": "code",
   "execution_count": null,
   "metadata": {},
   "outputs": [],
   "source": [
    "skew_pID = df.PatientID.skew()\n",
    "skew_age = df.age.skew()\n",
    "skew_bmi = df.bmi.skew()\n",
    "skew_bp = df.bloodpressure.skew()\n",
    "skew_claim = df.claim.skew()\n",
    "\n",
    "skew_df = pd.DataFrame({'PatientID':skew_pID, 'age': skew_age, 'bmi': skew_bmi, 'bp': skew_bp, 'claim':skew_claim}, index=[\"DataSkew\"]).round(2)\n",
    "skew_df\n"
   ]
  },
  {
   "cell_type": "code",
   "execution_count": null,
   "metadata": {},
   "outputs": [],
   "source": [
    "def count_outliers(column):\n",
    "\n",
    "        q1 = column.quantile(0.25)\n",
    "        q3 = column.quantile(0.75)\n",
    "        iqr = q3 - q1\n",
    "        lower_limit = q1 - 1.5 * iqr \n",
    "        upper_limit = q3 + 1.5 * iqr\n",
    "\n",
    "        outlier_count = ((column < lower_limit) | (column > upper_limit)).sum()\n",
    "        outlier_percent = (outlier_count/len(column) * 100).round(2)\n",
    "     \n",
    "        return pd.Series({'Outliers': outlier_count, 'Outliers(%)': outlier_percent})\n",
    "\n",
    "numerics = df.select_dtypes(exclude=[\"object\"])\n",
    "outlier_result = numerics.apply(count_outliers)\n",
    "outlier_result.reset_index()                                "
   ]
  },
  {
   "cell_type": "markdown",
   "metadata": {},
   "source": [
    "## Findings\n",
    "    \n",
    "| Column | Skewness | Outliers | Analysis |\n",
    "|:-------|---------:|:---------|:---------|\n",
    "| PatientID | 0.00 | 0 | perfectly symmetrical distribution. IDs have been assigned on the basis of claim values. lowest possible claim has the lowest most ID and vice versa. That is why this column should be added in the univariate analysis. Later on we can work on claim amounts on the basis of ID's |\n",
    "| age | 0.11 | 0 | Symmetric but Bimodal means this column has more than 1 mode values. This feature would be needed for further feature engineering to categorized the ages. skewness value shows that data is slightly positively skewed but 0.11 is close enough to 0 so its nearly symmetric without having outliers |\n",
    "| bmi | 0.29 | 9<br>(0.67%) | distribution is slightly positively skewed. Though bulk of data is spreaded around the mean but we have 0.67% of outliers too that is negligible |\n",
    "| bloodpressure | 1.48 | 62<br>(4.63%) | moderately positively skewed data with more outliers of 4.63%. this column has some high values that needs to be checked for authenticity of the data |\n",
    "| claim | 1.52 | 141<br>(10.52%) | this is our dependent/target variable, moderately positively skewed with 10.52% of outliers which is alarming since this column has more outliers. Authenticity and outlier handling would matter a lot |\n",
    "| Outliers ||| Data has been throughly checked. No dicrepensy or error found in outliers so outlier deletion is not recommended. Precious information would become lost otherwise.|"
   ]
  },
  {
   "cell_type": "markdown",
   "metadata": {},
   "source": [
    "## Univariate Analysis - Categorical Columns"
   ]
  },
  {
   "cell_type": "code",
   "execution_count": null,
   "metadata": {},
   "outputs": [],
   "source": [
    "colors = [\"#2a9d8f\", \"#e9c46a\", \"#f4a261\", \"#e76f51\"]\n",
    "fig, axs = plt.subplots(1,5, figsize = (15,5))\n",
    "\n",
    "axs[0].pie(df.gender.value_counts(), labels = df.gender.value_counts().index, autopct = '%1.1f%%', colors = colors)\n",
    "axs[0].set_title(\"gender\")\n",
    "axs[1].pie(df.diabetic.value_counts(), labels = df.diabetic.value_counts().index, autopct = '%1.1f%%', colors = colors)\n",
    "axs[1].set_title(\"diabetic\")\n",
    "axs[2].pie(df.smoker.value_counts(), labels = df.smoker.value_counts().index, autopct = '%1.1f%%', colors = colors)\n",
    "axs[2].set_title(\"smoker\")\n",
    "axs[3].pie(df.region.value_counts(), labels = df.region.value_counts().index, autopct = '%1.1f%%', colors = colors)\n",
    "axs[3].set_title(\"region\")\n",
    "axs[4].pie(df.children.value_counts(), labels = df.children.value_counts().index, autopct = '%1.1f%%', colors = colors)\n",
    "axs[4].set_title(\"children\")\n",
    "plt.tight_layout()\n",
    "plt.show()"
   ]
  },
  {
   "cell_type": "markdown",
   "metadata": {},
   "source": [
    "## Findings\n",
    "    \n",
    "| Column | Proportion | Analysis |\n",
    "|:-------|:-----------|:------------|\n",
    "| gender | male - 1.2% higher | mixed categories, no impact overall |\n",
    "| diabetic | no-diabetic - 4.2% higher | falls under mixed categories, no prominent impact overall |\n",
    "| smoker | non-smoker - 59.2% higher  | non-smoker category is way too high than smokers|\n",
    "| region | southeast - 33.1% | southeast and northeast have large proportions than others |\n",
    "| children | no children - 43.0%| people with no children are more present in the data |"
   ]
  },
  {
   "cell_type": "markdown",
   "metadata": {},
   "source": [
    "## Bivariate Analysis | Numerical - Numerical Columns"
   ]
  },
  {
   "cell_type": "code",
   "execution_count": null,
   "metadata": {},
   "outputs": [],
   "source": [
    "fig, axs = plt.subplots(1,3,figsize=(15,5))\n",
    "sns.scatterplot(data = df, x =\"age\", y = \"claim\", hue = \"gender\",ax = axs[0])\n",
    "sns.scatterplot(data = df, x =\"bmi\", y = \"claim\", hue = \"gender\", ax = axs[1])\n",
    "sns.scatterplot(data = df, x =\"bloodpressure\", y = \"claim\", hue = \"gender\", ax = axs[2])\n",
    "plt.tight_layout()\n",
    "plt.show()"
   ]
  },
  {
   "cell_type": "code",
   "execution_count": null,
   "metadata": {},
   "outputs": [],
   "source": [
    "sns.lmplot(data = df, x = \"bloodpressure\", y = \"claim\", height = 5, aspect = 1.5, hue = \"gender\")\n",
    "plt.show()"
   ]
  },
  {
   "cell_type": "code",
   "execution_count": null,
   "metadata": {},
   "outputs": [],
   "source": [
    "age_to_claim_corr = df.age.corr(df.claim)\n",
    "bmi_to_claim_corr = df.bmi.corr(df.claim)\n",
    "bp_to_claim_corr = df.bloodpressure.corr(df.claim)\n",
    "CorrData = pd.DataFrame({\"age/claim\":age_to_claim_corr, \"bmi/claim\": bmi_to_claim_corr, \"bp/claim\": bp_to_claim_corr}, index=[\"Correlation\"]).round(2)\n",
    "CorrData"
   ]
  },
  {
   "cell_type": "code",
   "execution_count": null,
   "metadata": {
    "scrolled": true
   },
   "outputs": [],
   "source": [
    "df[df.claim > 15000]"
   ]
  },
  {
   "cell_type": "code",
   "execution_count": null,
   "metadata": {},
   "outputs": [],
   "source": []
  },
  {
   "cell_type": "markdown",
   "metadata": {},
   "source": [
    "## Findings\n",
    "    \n",
    "| Column | correlation coefficient| Analysis |\n",
    "|:-------|-----------------------:|:---------|\n",
    "| age and claim | -0.03 | very weak negative correlation |\n",
    "| bmi and claim | 0.2 | very weak positive correlation |\n",
    "| bloodpressure and claim | 0.53 | moderate positive correlation |\n",
    "||| if bloodpressure & bmi increase, the claim value tends to increase as well |\n",
    "||| this finding suggests that higher bloodpressure & bmi are associated with higher claim values |\n",
    "||| lmplot is further showing the linear correlation between bloodpressue and claim |\n",
    "||| till 15,000 of claim value there are huge number of people. Over 15,000 people become less but claim values become higher. 358 people out of 1340 are claiming more than 15,000 amount. claim column needs to perform feature engneering |\n",
    "\n"
   ]
  },
  {
   "cell_type": "markdown",
   "metadata": {},
   "source": [
    "## Bivariate Analysis | Numerical - Categorical Columns"
   ]
  },
  {
   "cell_type": "code",
   "execution_count": null,
   "metadata": {},
   "outputs": [],
   "source": [
    "df.groupby(\"gender\")[\"claim\"].describe()"
   ]
  },
  {
   "cell_type": "code",
   "execution_count": null,
   "metadata": {},
   "outputs": [],
   "source": [
    "df.groupby(\"diabetic\")[\"claim\"].describe()"
   ]
  },
  {
   "cell_type": "code",
   "execution_count": null,
   "metadata": {},
   "outputs": [],
   "source": [
    "df.groupby(\"smoker\")[\"claim\"].describe()"
   ]
  },
  {
   "cell_type": "code",
   "execution_count": null,
   "metadata": {},
   "outputs": [],
   "source": [
    "df.groupby(\"region\")[\"claim\"].describe()"
   ]
  },
  {
   "cell_type": "code",
   "execution_count": null,
   "metadata": {},
   "outputs": [],
   "source": [
    "df.groupby(\"children\")[\"claim\"].describe()"
   ]
  },
  {
   "cell_type": "code",
   "execution_count": null,
   "metadata": {},
   "outputs": [],
   "source": [
    "fig, axs = plt.subplots(2,3, figsize = (15,10))\n",
    "sns.kdeplot(data = df, x = \"claim\", hue = \"gender\", fill = True, common_norm=False,  alpha=.5, linewidth=1, ax = axs[0,0])\n",
    "sns.kdeplot(data = df, x = \"claim\", hue = \"diabetic\", fill = True, common_norm=False,  alpha=.5, linewidth=1, ax = axs[0,1])\n",
    "sns.kdeplot(data = df, x = \"claim\", hue = \"smoker\", fill = True, common_norm=False, alpha=.5, linewidth=1, ax = axs[0,2])\n",
    "sns.kdeplot(data = df, x = \"claim\", hue = \"region\", fill = True, common_norm=False,  alpha=.5, linewidth=1, ax = axs[1,0])\n",
    "sns.kdeplot(data = df, x = \"claim\", hue = \"children\", fill = True, common_norm=False,  alpha=.5, linewidth=1, ax = axs[1,1])\n",
    "axs[1,2].axis('off')\n",
    "plt.tight_layout()\n",
    "plt.show()"
   ]
  },
  {
   "cell_type": "markdown",
   "metadata": {},
   "source": [
    "## Findings\n",
    "    \n",
    "| Column | Important Category | Analysis |\n",
    "|:-------|:------------------------|:---------|\n",
    "| claim/gender | count | males tend to have higher claim amounts on average with greater spread/variability. No special impact so far. |\n",
    "| claim/diabetic || to be diabetic or not to be is not adding any significant value in the claim but we will feature enginner this column further to analyze category wise |\n",
    "| claim/smoker | all | smokers tend to have higher claim amounts on average with greater spread/variability and very high quartiles compared to non-smokers |\n",
    "| claim/region | all| most of the claims are concentrated at lower amounts across all regions however the northeast region has a longer and somehow fat tail indicating high frequency of large value claims are being reported there |\n",
    "| claim/children || families with no or 5 children show the highest density peak at lower claim amounts wherea families with 0 children have high ratio of data around 43% | \n"
   ]
  },
  {
   "cell_type": "markdown",
   "metadata": {},
   "source": [
    "## Bivariate Analysis | Categorical - Categorical Columns"
   ]
  },
  {
   "cell_type": "code",
   "execution_count": null,
   "metadata": {},
   "outputs": [],
   "source": [
    "counts = pd.crosstab(df.gender, df.region)\n",
    "percentages = (pd.crosstab(df.gender, df.region, normalize='columns') * 100).round(2)\n",
    "combined = counts.astype(str) + \"\\n(\" + percentages.astype(str) + \"%)\"\n",
    "cmap = sns.color_palette(\"rocket_r\", as_cmap=True)\n",
    "sns.heatmap(counts, annot=combined, fmt='', cmap=cmap)\n",
    "plt.show()"
   ]
  },
  {
   "cell_type": "code",
   "execution_count": null,
   "metadata": {},
   "outputs": [],
   "source": [
    "counts = pd.crosstab(df.gender, df.children)\n",
    "percentages = (pd.crosstab(df.gender, df.children, normalize='columns') * 100).round(2)\n",
    "combined = counts.astype(str) + \"\\n(\" + percentages.astype(str) + \"%)\"\n",
    "cmap = sns.color_palette(\"rocket_r\", as_cmap=True)\n",
    "sns.heatmap(counts, annot=combined, fmt='', cmap=cmap)\n",
    "plt.show()"
   ]
  },
  {
   "cell_type": "markdown",
   "metadata": {},
   "source": [
    "## Feature Engineering"
   ]
  },
  {
   "cell_type": "markdown",
   "metadata": {},
   "source": [
    "### 1 - **diabetic column**"
   ]
  },
  {
   "cell_type": "code",
   "execution_count": null,
   "metadata": {},
   "outputs": [],
   "source": [
    "def bmi_classification(bmi_value):\n",
    "    if bmi_value < 18.5:\n",
    "        return \"under weight\"\n",
    "    elif bmi_value >= 18.5 and bmi_value <= 24.9:\n",
    "        return \"normal weight\"\n",
    "    elif bmi_value >= 25 and bmi_value <= 29.9:\n",
    "        return \"over weight\"\n",
    "    elif bmi_value >= 30 and bmi_value <= 34.9:\n",
    "        return \"moderate obesity\"\n",
    "    elif bmi_value >= 35 and bmi_value <= 39.9:\n",
    "        return \"severe obesity\"\n",
    "    else:\n",
    "        return \"morbid obesity\"\n",
    "\n",
    "df[\"bmi_class\"] = df[\"bmi\"].apply(lambda x:bmi_classification(x))"
   ]
  },
  {
   "cell_type": "markdown",
   "metadata": {},
   "source": [
    "### 2 - **age column**"
   ]
  },
  {
   "cell_type": "code",
   "execution_count": null,
   "metadata": {},
   "outputs": [],
   "source": [
    "df.age.min()"
   ]
  },
  {
   "cell_type": "code",
   "execution_count": null,
   "metadata": {},
   "outputs": [],
   "source": [
    "df.age.max()"
   ]
  },
  {
   "cell_type": "code",
   "execution_count": null,
   "metadata": {},
   "outputs": [],
   "source": [
    "age_range = [18,25,45,65]\n",
    "labels = [\"adult\", \"middle-aged\", \"senior\"]\n",
    "\n",
    "df[\"age_class\"] = pd.cut(df[\"age\"], age_range, labels = labels, right = False)"
   ]
  },
  {
   "cell_type": "markdown",
   "metadata": {},
   "source": [
    "### 3 - **bloodpressure column**"
   ]
  },
  {
   "cell_type": "code",
   "execution_count": null,
   "metadata": {},
   "outputs": [],
   "source": [
    "df.bloodpressure.min()"
   ]
  },
  {
   "cell_type": "code",
   "execution_count": null,
   "metadata": {},
   "outputs": [],
   "source": [
    "df.bloodpressure.max()"
   ]
  },
  {
   "cell_type": "code",
   "execution_count": null,
   "metadata": {},
   "outputs": [],
   "source": [
    "bp_range = [80,120,130,140,150]\n",
    "labels = [\"normal\", \"elevated\",\"hypertension stage 1\", \"hypertension stage 2\"]\n",
    "\n",
    "df[\"bp_class\"] = pd.cut(df[\"bloodpressure\"], bp_range, labels = labels, right = False)"
   ]
  },
  {
   "cell_type": "markdown",
   "metadata": {},
   "source": [
    "## Multivariate Analysis "
   ]
  },
  {
   "cell_type": "code",
   "execution_count": null,
   "metadata": {},
   "outputs": [],
   "source": [
    "sns.heatmap(df.select_dtypes(include='number').corr(), annot=True)"
   ]
  },
  {
   "cell_type": "code",
   "execution_count": null,
   "metadata": {},
   "outputs": [],
   "source": [
    "df.drop(columns=[\"PatientID\"], inplace=True)"
   ]
  },
  {
   "cell_type": "code",
   "execution_count": null,
   "metadata": {},
   "outputs": [],
   "source": [
    "# df[\"bp_pct_change\"] = df.bloodpressure.pct_change()\n",
    "# df[\"claim_pct_change\"] = df.claim.pct_change()\n",
    "\n",
    "# df['change_ratio'] = df[\"bp_pct_change\"] / df[\"claim_pct_change\"] \n"
   ]
  },
  {
   "cell_type": "code",
   "execution_count": null,
   "metadata": {},
   "outputs": [],
   "source": [
    "# df.dropna()"
   ]
  },
  {
   "cell_type": "code",
   "execution_count": null,
   "metadata": {},
   "outputs": [],
   "source": [
    "sns.lineplot(data = df, x='bloodpressure', y='claim', hue='smoker')"
   ]
  },
  {
   "cell_type": "code",
   "execution_count": null,
   "metadata": {},
   "outputs": [],
   "source": [
    "sns.relplot(data = df, x='bloodpressure', y='claim', hue='smoker',  style='bp_class')"
   ]
  },
  {
   "cell_type": "code",
   "execution_count": null,
   "metadata": {},
   "outputs": [],
   "source": [
    "temp = df[df.claim > 30000]"
   ]
  },
  {
   "cell_type": "code",
   "execution_count": null,
   "metadata": {},
   "outputs": [],
   "source": [
    "sns.lineplot(data = temp, x='bloodpressure', y='claim', hue='smoker')"
   ]
  },
  {
   "cell_type": "code",
   "execution_count": null,
   "metadata": {},
   "outputs": [],
   "source": [
    "temp"
   ]
  },
  {
   "cell_type": "code",
   "execution_count": null,
   "metadata": {},
   "outputs": [],
   "source": [
    "g = sns.FacetGrid(data = df, col='bp_class', hue='smoker')\n",
    "g.map(sns.scatterplot, 'bloodpressure', 'claim')\n",
    "g.add_legend()\n",
    "plt.tight_layout()\n",
    "plt.show()"
   ]
  },
  {
   "cell_type": "code",
   "execution_count": null,
   "metadata": {},
   "outputs": [],
   "source": [
    "g = sns.PairGrid(data = df, hue='smoker', vars=['age','bmi', 'bloodpressure', 'claim'])\n",
    "g.map_diag(sns.histplot)\n",
    "g.map_upper(sns.scatterplot)\n",
    "g.map_lower(sns.lineplot)\n",
    "g.add_legend()\n",
    "plt.tight_layout()\n",
    "plt.show()"
   ]
  },
  {
   "cell_type": "code",
   "execution_count": null,
   "metadata": {},
   "outputs": [],
   "source": [
    "g = sns.JointGrid(data=df, x = 'bloodpressure', y='claim', hue='smoker')\n",
    "g.plot(sns.lineplot, sns.barplot)"
   ]
  },
  {
   "cell_type": "code",
   "execution_count": null,
   "metadata": {},
   "outputs": [],
   "source": [
    "bp_range = [80,117,120,121,122,123,125,127,129,131,134]\n",
    "labels = [\"14-19\", \"20-24\", \"25-29\", \"30-34\", \"35-39\", \"40-44\", \"45-49\", \"50-54\", \"55-59\", \"60-64\"]\n",
    "\n",
    "df[\"newbp_class\"] = pd.cut(df[\"bloodpressure\"], bp_range, labels = labels, right = False)"
   ]
  },
  {
   "cell_type": "code",
   "execution_count": null,
   "metadata": {},
   "outputs": [],
   "source": [
    "sns.scatterplot(data=df, x=\"newbp_class\", y=\"claim\")"
   ]
  },
  {
   "cell_type": "code",
   "execution_count": null,
   "metadata": {},
   "outputs": [],
   "source": [
    "df.age_class.value_counts()"
   ]
  },
  {
   "cell_type": "code",
   "execution_count": null,
   "metadata": {},
   "outputs": [],
   "source": [
    "df[df.bmi < 25][\"gender\"].value_counts()"
   ]
  },
  {
   "cell_type": "code",
   "execution_count": null,
   "metadata": {},
   "outputs": [],
   "source": [
    "df.groupby([\"region\", \"gender\"])[\"claim\"].median()"
   ]
  }
 ],
 "metadata": {
  "colab": {
   "provenance": []
  },
  "kernelspec": {
   "display_name": "Python 3 (ipykernel)",
   "language": "python",
   "name": "python3"
  },
  "language_info": {
   "codemirror_mode": {
    "name": "ipython",
    "version": 3
   },
   "file_extension": ".py",
   "mimetype": "text/x-python",
   "name": "python",
   "nbconvert_exporter": "python",
   "pygments_lexer": "ipython3",
   "version": "3.12.4"
  }
 },
 "nbformat": 4,
 "nbformat_minor": 4
}
